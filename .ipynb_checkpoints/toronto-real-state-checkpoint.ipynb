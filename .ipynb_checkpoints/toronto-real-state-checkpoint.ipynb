{
 "cells": [
  {
   "cell_type": "code",
   "execution_count": 8,
   "id": "ced444b3-f7d6-466b-9390-cf3cbccfc6c3",
   "metadata": {},
   "outputs": [
    {
     "name": "stdout",
     "output_type": "stream",
     "text": [
      "<selenium.webdriver.remote.webelement.WebElement (session=\"9644a03448a151a9df4f89f70b52d406\", element=\"a3652a54-8e96-4e30-89e0-4500acc29a39\")>\n"
     ]
    }
   ],
   "source": [
    "\"\"\"\n",
    " Second way --- using the \"webdriver-manager\"\n",
    " we will be able to always download the latest version of the \"chromedriver\" \n",
    " using our Google Chrome version as a reference.\n",
    "\"\"\"\n",
    "\n",
    "from selenium import webdriver\n",
    "from selenium.webdriver.chrome.service import Service\n",
    "from webdriver_manager.chrome import ChromeDriverManager\n",
    "\n",
    "service = Service(ChromeDriverManager().install())\n",
    "driver = webdriver.Chrome(service=service)\n",
    "\n",
    "#allow us to navigate trough any page and to open a html archive in our pc.\n",
    "driver.get(r\"https://www.zolo.ca/\")\n",
    "#id = \"13228072\"\n",
    "\n",
    "from selenium.webdriver.common.by import By\n",
    "\n",
    "#driver.get(r\"/Users/aniziocp/Desktop/Github/toronto-real-state-scraping/zolo.html\")\n",
    "title = driver.find_element(By.XPATH, '//*[@id=\"listing_container\"]/section[1]/h1')\n",
    "\n",
    "\n",
    "print(title)\n",
    "\n",
    "#best order of elements -> ID > XPATH > CLASS NAME"
   ]
  },
  {
   "cell_type": "code",
   "execution_count": 7,
   "id": "bf72212d-6d77-421c-b821-3413cfab1eac",
   "metadata": {},
   "outputs": [
    {
     "data": {
      "text/plain": [
       "<selenium.webdriver.remote.webelement.WebElement (session=\"11046be15b7d1b088887edb16fdc18f8\", element=\"26a7770f-4126-4a0e-8acf-41a62226abc2\")>"
      ]
     },
     "execution_count": 7,
     "metadata": {},
     "output_type": "execute_result"
    }
   ],
   "source": [
    "title"
   ]
  },
  {
   "cell_type": "code",
   "execution_count": null,
   "id": "ae26c77a-86f8-41a2-9670-35c55a81c658",
   "metadata": {},
   "outputs": [],
   "source": []
  }
 ],
 "metadata": {
  "kernelspec": {
   "display_name": "Python 3 (ipykernel)",
   "language": "python",
   "name": "python3"
  },
  "language_info": {
   "codemirror_mode": {
    "name": "ipython",
    "version": 3
   },
   "file_extension": ".py",
   "mimetype": "text/x-python",
   "name": "python",
   "nbconvert_exporter": "python",
   "pygments_lexer": "ipython3",
   "version": "3.9.13"
  }
 },
 "nbformat": 4,
 "nbformat_minor": 5
}
