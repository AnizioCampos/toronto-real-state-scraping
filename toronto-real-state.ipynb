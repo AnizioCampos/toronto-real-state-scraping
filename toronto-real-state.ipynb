{
 "cells": [
  {
   "cell_type": "markdown",
   "id": "c8c76f5e-7522-460a-9d41-af69f824cf34",
   "metadata": {},
   "source": [
    "# Webscraping at Zolo Real State Website."
   ]
  },
  {
   "cell_type": "markdown",
   "id": "e87ff090-a8cd-44b0-a270-461af043e462",
   "metadata": {},
   "source": [
    "### Getting the links to each building at Zolo website."
   ]
  },
  {
   "cell_type": "code",
   "execution_count": null,
   "id": "ced444b3-f7d6-466b-9390-cf3cbccfc6c3",
   "metadata": {},
   "outputs": [],
   "source": [
    "\"\"\"\n",
    " Second way --- using the \"webdriver-manager\"\n",
    " we will be able to always download the latest version of the \"chromedriver\" \n",
    " using our Google Chrome version as a reference.\n",
    "\"\"\"\n",
    "\n",
    "from selenium import webdriver\n",
    "from selenium.webdriver.chrome.service import Service\n",
    "from webdriver_manager.chrome import ChromeDriverManager\n",
    "from selenium.webdriver.common.by import By\n",
    "from time import sleep\n",
    "\n",
    "service = Service(ChromeDriverManager().install())\n",
    "driver = webdriver.Chrome(service=service)\n",
    "\n",
    "#allow us to navigate trough any page and to open a html archive in our pc.\n",
    "#driver.get(r\"https://www.zolo.ca/\")\n",
    "list_links=[]\n",
    "\n",
    "for page in range(1,100):\n",
    "    #define the link of the current page to be opened.\n",
    "    current_page = 'https://www.zolo.ca/page-'+str(page)\n",
    "    #open a page based on the link formed.\n",
    "    driver.get(current_page)\n",
    "    #print(current_page)\n",
    "    #gets all the articles to a list.\n",
    "    articles = driver.find_elements(By.TAG_NAME, 'article')\n",
    "    #inside of each article it is looking for the \"a hef\" where we got the link to the detailed page.\n",
    "    for article in articles:\n",
    "        try:\n",
    "            link = article.find_element(By.TAG_NAME, 'a').get_attribute('href')\n",
    "            list_links.append(link)\n",
    "            print(link)\n",
    "        except:\n",
    "            print('erro')\n",
    "    #best order of elements -> ID > XPATH > CLASS_NAME\n",
    "    #sleep(1)\n",
    "    \n",
    "    if list_links == 19999:\n",
    "        break\n",
    "        \n",
    "\n",
    "#creating the dataframe to input into sheets.\n",
    "df_links = pd.DataFrame(columns=['links_zolo'], data=list_links)\n",
    "\n"
   ]
  },
  {
   "cell_type": "code",
   "execution_count": 130,
   "id": "301c9316-4884-4223-aa3a-a41b83e41362",
   "metadata": {},
   "outputs": [
    {
     "data": {
      "text/plain": [
       "(1862, 1)"
      ]
     },
     "execution_count": 130,
     "metadata": {},
     "output_type": "execute_result"
    }
   ],
   "source": [
    "df_links.shape"
   ]
  },
  {
   "cell_type": "markdown",
   "id": "021236b3-b2f1-4063-aebb-4bf790cfcb13",
   "metadata": {},
   "source": [
    "### Sistematizando a montagem do dataframe"
   ]
  },
  {
   "cell_type": "code",
   "execution_count": 159,
   "id": "808fad81-805f-4cb9-8281-8906a6cfa5a7",
   "metadata": {},
   "outputs": [],
   "source": [
    "df_dados = pd.DataFrame(columns=['price'])\n",
    "list_ = []\n",
    "\n",
    "service = Service(ChromeDriverManager().install())\n",
    "driver = webdriver.Chrome(service=service)\n",
    "\n",
    "for link in df_links['links_zolo']:\n",
    "    try:\n",
    "        driver.get(link)\n",
    "        price = driver.find_element(By.XPATH, '/html/body/section[2]/div/div/section[1]/section[2]/div[1]').text\n",
    "        address = driver.find_element(By.XPATH, '').text\n",
    "        city = driver.find_element(By.XPATH, '/html/body/section[2]/div/div/section[1]/section[1]/div/a[1]').text\n",
    "        neighborhood = driver.find_element(By.XPATH, '/html/body/section[2]/div/div/section[1]/section[1]/div/a[2]').text\n",
    "        bed = driver.find_element(By.XPATH, '/html/body/section[2]/div/div/section[1]/section[1]/ul/li[1]').text\n",
    "        bath = driver.find_element(By.XPATH, '/html/body/section[2]/div/div/section[1]/section[1]/ul/li[2]').text\n",
    "        sale_or_rent = driver.find_element(By.XPATH, '/html/body/section[2]/div/div/section[1]/section[2]/div[2]/div[1]').text\n",
    "        size = driver.find_element(By.XPATH, '/html/body/section[2]/div/div/section[5]/section/div[1]/dl[3]/dd/span').text\n",
    "        re_type = driver.find_element(By.XPATH, '/html/body/section[2]/div/div/section[1]/section[2]/div[2]/div[1]').text\n",
    "        except:\n",
    "            re_type = 'NA'\n",
    "\n",
    "        \n",
    "df = pd.DataFrame(columns=['link', 'price', 'address', 'city', 'neighborhood', 'bed', 'bath', 're_type', 'size'])\n",
    "\n",
    "for i in range(len(list_links)):\n",
    "    current_link = link\n",
    "    current_price = price\n",
    "    current_address = address\n",
    "    current_city = city\n",
    "    current_neighborhood = neighborhood\n",
    "    current_bed = bed\n",
    "    current_bath = bath\n",
    "    current_re_type = re_type\n",
    "    current_size = size\n",
    "\n",
    "df.loc[i] = [current_link, current_price, current_address, current_city, current_neighborhood, current_bed, current_bath, \n",
    "             current_re_type, current_size]\n",
    "    \n"
   ]
  },
  {
   "cell_type": "code",
   "execution_count": 160,
   "id": "b500689a-67db-461e-a299-0314365b7c30",
   "metadata": {},
   "outputs": [
    {
     "data": {
      "text/plain": [
       "38"
      ]
     },
     "execution_count": 160,
     "metadata": {},
     "output_type": "execute_result"
    }
   ],
   "source": [
    "len(list_)"
   ]
  },
  {
   "cell_type": "code",
   "execution_count": 161,
   "id": "e067013a-6161-43b6-bf20-ff1c47254083",
   "metadata": {},
   "outputs": [],
   "source": [
    "df = pd.DataFrame(data=list_, columns=['current_scrap'])"
   ]
  },
  {
   "cell_type": "code",
   "execution_count": 162,
   "id": "fb1624fc-e453-48f9-965a-d924a2a73c4c",
   "metadata": {},
   "outputs": [
    {
     "data": {
      "text/plain": [
       "For Rent    28\n",
       "For Sale    10\n",
       "Name: current_scrap, dtype: int64"
      ]
     },
     "execution_count": 162,
     "metadata": {},
     "output_type": "execute_result"
    }
   ],
   "source": [
    "df['current_scrap'].value_counts().head(20)"
   ]
  },
  {
   "cell_type": "code",
   "execution_count": 95,
   "id": "406c4290-8865-4dec-ac33-f023a04600b3",
   "metadata": {},
   "outputs": [
    {
     "data": {
      "text/plain": [
       "{'spreadsheetId': '1b4DllN1xFdujCzYnaMMWyC4tBg_gdmzT6G9GkqGT9Jo',\n",
       " 'updatedRange': \"'Página1'!A1:A1863\",\n",
       " 'updatedRows': 1863,\n",
       " 'updatedColumns': 1,\n",
       " 'updatedCells': 1863}"
      ]
     },
     "execution_count": 95,
     "metadata": {},
     "output_type": "execute_result"
    }
   ],
   "source": [
    "import gspread\n",
    "import pandas as pd\n",
    "\n",
    "CODE = '1b4DllN1xFdujCzYnaMMWyC4tBg_gdmzT6G9GkqGT9Jo'\n",
    "\n",
    "gc = gspread.service_account(filename='key.json')\n",
    "\n",
    "sh = gc.open_by_key(CODE)\n",
    "\n",
    "ws = sh.worksheet('Página1')\n",
    "\n",
    "ws.update([df_links.columns.values.tolist()] + df_links.values.tolist())"
   ]
  },
  {
   "cell_type": "code",
   "execution_count": null,
   "id": "2a1f19b4-4327-4484-897a-58946999a6ac",
   "metadata": {},
   "outputs": [],
   "source": [
    "/html/body/section[2]/div/div/section[1]/section[2]/div[3]/div[1] #For Sale\n",
    "/html/body/section[2]/div/div/section[1]/section[2]/div[2]/div[1] #For Rent\n",
    "/html/body/section[2]/div/div/section[1]/section[2]/div[3]/div[1] #For Sale "
   ]
  },
  {
   "cell_type": "code",
   "execution_count": 123,
   "id": "89545719-415e-49be-97e6-d3328f031a1a",
   "metadata": {},
   "outputs": [
    {
     "ename": "NoSuchElementException",
     "evalue": "Message: no such element: Unable to locate element: {\"method\":\"xpath\",\"selector\":\"//*[@id=\"listing\"]/div/div/section[1]/section[2]/div[3]/div[1]\"}\n  (Session info: chrome=112.0.5615.137)\nStacktrace:\n0   chromedriver                        0x000000010098bae8 chromedriver + 4958952\n1   chromedriver                        0x00000001009837b3 chromedriver + 4925363\n2   chromedriver                        0x00000001005451d6 chromedriver + 475606\n3   chromedriver                        0x0000000100588a20 chromedriver + 752160\n4   chromedriver                        0x0000000100588c81 chromedriver + 752769\n5   chromedriver                        0x00000001005ccf64 chromedriver + 1032036\n6   chromedriver                        0x00000001005aec3d chromedriver + 908349\n7   chromedriver                        0x00000001005ca25b chromedriver + 1020507\n8   chromedriver                        0x00000001005ae9e3 chromedriver + 907747\n9   chromedriver                        0x0000000100578aef chromedriver + 686831\n10  chromedriver                        0x000000010057a00e chromedriver + 692238\n11  chromedriver                        0x00000001009479ad chromedriver + 4680109\n12  chromedriver                        0x000000010094cc12 chromedriver + 4701202\n13  chromedriver                        0x000000010095379f chromedriver + 4728735\n14  chromedriver                        0x000000010094db7a chromedriver + 4705146\n15  chromedriver                        0x000000010092027e chromedriver + 4518526\n16  chromedriver                        0x000000010096d908 chromedriver + 4835592\n17  chromedriver                        0x000000010096da87 chromedriver + 4835975\n18  chromedriver                        0x000000010097d00f chromedriver + 4898831\n19  libsystem_pthread.dylib             0x00007ff802b71259 _pthread_start + 125\n20  libsystem_pthread.dylib             0x00007ff802b6cc7b thread_start + 15\n",
     "output_type": "error",
     "traceback": [
      "\u001b[0;31m---------------------------------------------------------------------------\u001b[0m",
      "\u001b[0;31mNoSuchElementException\u001b[0m                    Traceback (most recent call last)",
      "\u001b[0;32m/var/folders/g0/dwg20mps51zcn_x_m4hm2drr0000gn/T/ipykernel_14063/2702146505.py\u001b[0m in \u001b[0;36m<module>\u001b[0;34m\u001b[0m\n\u001b[1;32m     16\u001b[0m \u001b[0mcity\u001b[0m \u001b[0;34m=\u001b[0m \u001b[0mdriver\u001b[0m\u001b[0;34m.\u001b[0m\u001b[0mfind_element\u001b[0m\u001b[0;34m(\u001b[0m\u001b[0mBy\u001b[0m\u001b[0;34m.\u001b[0m\u001b[0mXPATH\u001b[0m\u001b[0;34m,\u001b[0m \u001b[0;34m'/html/body/section[2]/div/div/section[1]/section[1]/div/a[1]'\u001b[0m\u001b[0;34m)\u001b[0m\u001b[0;34m.\u001b[0m\u001b[0mtext\u001b[0m\u001b[0;34m\u001b[0m\u001b[0;34m\u001b[0m\u001b[0m\n\u001b[1;32m     17\u001b[0m \u001b[0mneighborhood\u001b[0m \u001b[0;34m=\u001b[0m \u001b[0mdriver\u001b[0m\u001b[0;34m.\u001b[0m\u001b[0mfind_element\u001b[0m\u001b[0;34m(\u001b[0m\u001b[0mBy\u001b[0m\u001b[0;34m.\u001b[0m\u001b[0mXPATH\u001b[0m\u001b[0;34m,\u001b[0m \u001b[0;34m'/html/body/section[2]/div/div/section[1]/section[1]/div/a[2]'\u001b[0m\u001b[0;34m)\u001b[0m\u001b[0;34m.\u001b[0m\u001b[0mtext\u001b[0m\u001b[0;34m\u001b[0m\u001b[0;34m\u001b[0m\u001b[0m\n\u001b[0;32m---> 18\u001b[0;31m \u001b[0mre_type\u001b[0m \u001b[0;34m=\u001b[0m \u001b[0mdriver\u001b[0m\u001b[0;34m.\u001b[0m\u001b[0mfind_element\u001b[0m\u001b[0;34m(\u001b[0m\u001b[0mBy\u001b[0m\u001b[0;34m.\u001b[0m\u001b[0mXPATH\u001b[0m\u001b[0;34m,\u001b[0m \u001b[0;34m'//*[@id=\"listing\"]/div/div/section[1]/section[2]/div[3]/div[1]'\u001b[0m\u001b[0;34m)\u001b[0m\u001b[0;34m.\u001b[0m\u001b[0mtext\u001b[0m\u001b[0;34m\u001b[0m\u001b[0;34m\u001b[0m\u001b[0m\n\u001b[0m\u001b[1;32m     19\u001b[0m                                         \u001b[0;31m#/html/body/section[2]/div/div/section[1]/section[2]/div[3]/div[1]\u001b[0m\u001b[0;34m\u001b[0m\u001b[0;34m\u001b[0m\u001b[0m\n\u001b[1;32m     20\u001b[0m                                         \u001b[0;31m#//*[@id=\"listing\"]/div/div/section[1]/section[2]/div[3]/div[1]\u001b[0m\u001b[0;34m\u001b[0m\u001b[0;34m\u001b[0m\u001b[0m\n",
      "\u001b[0;32m/opt/anaconda3/lib/python3.9/site-packages/selenium/webdriver/remote/webdriver.py\u001b[0m in \u001b[0;36mfind_element\u001b[0;34m(self, by, value)\u001b[0m\n\u001b[1;32m    829\u001b[0m             \u001b[0mvalue\u001b[0m \u001b[0;34m=\u001b[0m \u001b[0;34mf'[name=\"{value}\"]'\u001b[0m\u001b[0;34m\u001b[0m\u001b[0;34m\u001b[0m\u001b[0m\n\u001b[1;32m    830\u001b[0m \u001b[0;34m\u001b[0m\u001b[0m\n\u001b[0;32m--> 831\u001b[0;31m         \u001b[0;32mreturn\u001b[0m \u001b[0mself\u001b[0m\u001b[0;34m.\u001b[0m\u001b[0mexecute\u001b[0m\u001b[0;34m(\u001b[0m\u001b[0mCommand\u001b[0m\u001b[0;34m.\u001b[0m\u001b[0mFIND_ELEMENT\u001b[0m\u001b[0;34m,\u001b[0m \u001b[0;34m{\u001b[0m\u001b[0;34m\"using\"\u001b[0m\u001b[0;34m:\u001b[0m \u001b[0mby\u001b[0m\u001b[0;34m,\u001b[0m \u001b[0;34m\"value\"\u001b[0m\u001b[0;34m:\u001b[0m \u001b[0mvalue\u001b[0m\u001b[0;34m}\u001b[0m\u001b[0;34m)\u001b[0m\u001b[0;34m[\u001b[0m\u001b[0;34m\"value\"\u001b[0m\u001b[0;34m]\u001b[0m\u001b[0;34m\u001b[0m\u001b[0;34m\u001b[0m\u001b[0m\n\u001b[0m\u001b[1;32m    832\u001b[0m \u001b[0;34m\u001b[0m\u001b[0m\n\u001b[1;32m    833\u001b[0m     \u001b[0;32mdef\u001b[0m \u001b[0mfind_elements\u001b[0m\u001b[0;34m(\u001b[0m\u001b[0mself\u001b[0m\u001b[0;34m,\u001b[0m \u001b[0mby\u001b[0m\u001b[0;34m=\u001b[0m\u001b[0mBy\u001b[0m\u001b[0;34m.\u001b[0m\u001b[0mID\u001b[0m\u001b[0;34m,\u001b[0m \u001b[0mvalue\u001b[0m\u001b[0;34m:\u001b[0m \u001b[0mOptional\u001b[0m\u001b[0;34m[\u001b[0m\u001b[0mstr\u001b[0m\u001b[0;34m]\u001b[0m \u001b[0;34m=\u001b[0m \u001b[0;32mNone\u001b[0m\u001b[0;34m)\u001b[0m \u001b[0;34m->\u001b[0m \u001b[0mList\u001b[0m\u001b[0;34m[\u001b[0m\u001b[0mWebElement\u001b[0m\u001b[0;34m]\u001b[0m\u001b[0;34m:\u001b[0m\u001b[0;34m\u001b[0m\u001b[0;34m\u001b[0m\u001b[0m\n",
      "\u001b[0;32m/opt/anaconda3/lib/python3.9/site-packages/selenium/webdriver/remote/webdriver.py\u001b[0m in \u001b[0;36mexecute\u001b[0;34m(self, driver_command, params)\u001b[0m\n\u001b[1;32m    438\u001b[0m         \u001b[0mresponse\u001b[0m \u001b[0;34m=\u001b[0m \u001b[0mself\u001b[0m\u001b[0;34m.\u001b[0m\u001b[0mcommand_executor\u001b[0m\u001b[0;34m.\u001b[0m\u001b[0mexecute\u001b[0m\u001b[0;34m(\u001b[0m\u001b[0mdriver_command\u001b[0m\u001b[0;34m,\u001b[0m \u001b[0mparams\u001b[0m\u001b[0;34m)\u001b[0m\u001b[0;34m\u001b[0m\u001b[0;34m\u001b[0m\u001b[0m\n\u001b[1;32m    439\u001b[0m         \u001b[0;32mif\u001b[0m \u001b[0mresponse\u001b[0m\u001b[0;34m:\u001b[0m\u001b[0;34m\u001b[0m\u001b[0;34m\u001b[0m\u001b[0m\n\u001b[0;32m--> 440\u001b[0;31m             \u001b[0mself\u001b[0m\u001b[0;34m.\u001b[0m\u001b[0merror_handler\u001b[0m\u001b[0;34m.\u001b[0m\u001b[0mcheck_response\u001b[0m\u001b[0;34m(\u001b[0m\u001b[0mresponse\u001b[0m\u001b[0;34m)\u001b[0m\u001b[0;34m\u001b[0m\u001b[0;34m\u001b[0m\u001b[0m\n\u001b[0m\u001b[1;32m    441\u001b[0m             \u001b[0mresponse\u001b[0m\u001b[0;34m[\u001b[0m\u001b[0;34m\"value\"\u001b[0m\u001b[0;34m]\u001b[0m \u001b[0;34m=\u001b[0m \u001b[0mself\u001b[0m\u001b[0;34m.\u001b[0m\u001b[0m_unwrap_value\u001b[0m\u001b[0;34m(\u001b[0m\u001b[0mresponse\u001b[0m\u001b[0;34m.\u001b[0m\u001b[0mget\u001b[0m\u001b[0;34m(\u001b[0m\u001b[0;34m\"value\"\u001b[0m\u001b[0;34m,\u001b[0m \u001b[0;32mNone\u001b[0m\u001b[0;34m)\u001b[0m\u001b[0;34m)\u001b[0m\u001b[0;34m\u001b[0m\u001b[0;34m\u001b[0m\u001b[0m\n\u001b[1;32m    442\u001b[0m             \u001b[0;32mreturn\u001b[0m \u001b[0mresponse\u001b[0m\u001b[0;34m\u001b[0m\u001b[0;34m\u001b[0m\u001b[0m\n",
      "\u001b[0;32m/opt/anaconda3/lib/python3.9/site-packages/selenium/webdriver/remote/errorhandler.py\u001b[0m in \u001b[0;36mcheck_response\u001b[0;34m(self, response)\u001b[0m\n\u001b[1;32m    243\u001b[0m                 \u001b[0malert_text\u001b[0m \u001b[0;34m=\u001b[0m \u001b[0mvalue\u001b[0m\u001b[0;34m[\u001b[0m\u001b[0;34m\"alert\"\u001b[0m\u001b[0;34m]\u001b[0m\u001b[0;34m.\u001b[0m\u001b[0mget\u001b[0m\u001b[0;34m(\u001b[0m\u001b[0;34m\"text\"\u001b[0m\u001b[0;34m)\u001b[0m\u001b[0;34m\u001b[0m\u001b[0;34m\u001b[0m\u001b[0m\n\u001b[1;32m    244\u001b[0m             \u001b[0;32mraise\u001b[0m \u001b[0mexception_class\u001b[0m\u001b[0;34m(\u001b[0m\u001b[0mmessage\u001b[0m\u001b[0;34m,\u001b[0m \u001b[0mscreen\u001b[0m\u001b[0;34m,\u001b[0m \u001b[0mstacktrace\u001b[0m\u001b[0;34m,\u001b[0m \u001b[0malert_text\u001b[0m\u001b[0;34m)\u001b[0m  \u001b[0;31m# type: ignore[call-arg]  # mypy is not smart enough here\u001b[0m\u001b[0;34m\u001b[0m\u001b[0;34m\u001b[0m\u001b[0m\n\u001b[0;32m--> 245\u001b[0;31m         \u001b[0;32mraise\u001b[0m \u001b[0mexception_class\u001b[0m\u001b[0;34m(\u001b[0m\u001b[0mmessage\u001b[0m\u001b[0;34m,\u001b[0m \u001b[0mscreen\u001b[0m\u001b[0;34m,\u001b[0m \u001b[0mstacktrace\u001b[0m\u001b[0;34m)\u001b[0m\u001b[0;34m\u001b[0m\u001b[0;34m\u001b[0m\u001b[0m\n\u001b[0m",
      "\u001b[0;31mNoSuchElementException\u001b[0m: Message: no such element: Unable to locate element: {\"method\":\"xpath\",\"selector\":\"//*[@id=\"listing\"]/div/div/section[1]/section[2]/div[3]/div[1]\"}\n  (Session info: chrome=112.0.5615.137)\nStacktrace:\n0   chromedriver                        0x000000010098bae8 chromedriver + 4958952\n1   chromedriver                        0x00000001009837b3 chromedriver + 4925363\n2   chromedriver                        0x00000001005451d6 chromedriver + 475606\n3   chromedriver                        0x0000000100588a20 chromedriver + 752160\n4   chromedriver                        0x0000000100588c81 chromedriver + 752769\n5   chromedriver                        0x00000001005ccf64 chromedriver + 1032036\n6   chromedriver                        0x00000001005aec3d chromedriver + 908349\n7   chromedriver                        0x00000001005ca25b chromedriver + 1020507\n8   chromedriver                        0x00000001005ae9e3 chromedriver + 907747\n9   chromedriver                        0x0000000100578aef chromedriver + 686831\n10  chromedriver                        0x000000010057a00e chromedriver + 692238\n11  chromedriver                        0x00000001009479ad chromedriver + 4680109\n12  chromedriver                        0x000000010094cc12 chromedriver + 4701202\n13  chromedriver                        0x000000010095379f chromedriver + 4728735\n14  chromedriver                        0x000000010094db7a chromedriver + 4705146\n15  chromedriver                        0x000000010092027e chromedriver + 4518526\n16  chromedriver                        0x000000010096d908 chromedriver + 4835592\n17  chromedriver                        0x000000010096da87 chromedriver + 4835975\n18  chromedriver                        0x000000010097d00f chromedriver + 4898831\n19  libsystem_pthread.dylib             0x00007ff802b71259 _pthread_start + 125\n20  libsystem_pthread.dylib             0x00007ff802b6cc7b thread_start + 15\n"
     ]
    }
   ],
   "source": [
    "from selenium import webdriver\n",
    "from selenium.webdriver.chrome.service import Service\n",
    "from webdriver_manager.chrome import ChromeDriverManager\n",
    "from selenium.webdriver.common.by import By\n",
    "from time import sleep\n",
    "\n",
    "service = Service(ChromeDriverManager().install())\n",
    "driver = webdriver.Chrome(service=service)\n",
    "\n",
    "#driver.get('https://www.zolo.ca/toronto-real-estate/120-varna-drive/612')\n",
    "\n",
    "driver.get('https://www.zolo.ca/toronto-real-estate/50-thomas-riley-road/1106')\n",
    "\n",
    "\n",
    "price = driver.find_element(By.XPATH, '/html/body/section[2]/div/div/section[1]/section[2]/div[1]').text\n",
    "city = driver.find_element(By.XPATH, '/html/body/section[2]/div/div/section[1]/section[1]/div/a[1]').text\n",
    "neighborhood = driver.find_element(By.XPATH, '/html/body/section[2]/div/div/section[1]/section[1]/div/a[2]').text\n",
    "re_type = driver.find_element(By.XPATH, '/html/body/section[2]/div/div/section[1]/section[2]/div[2]/div[1]').text\n",
    "bed = driver.find_element(By.XPATH, '/html/body/section[2]/div/div/section[1]/section[1]/ul/li[1]').text\n",
    "bath = driver.find_element(By.XPATH, '/html/body/section[2]/div/div/section[1]/section[1]/ul/li[2]').text\n",
    "type_ = driver.find_element(By.XPATH, '/html/body/section[2]/div/div/section[5]/section/div[1]/dl[1]/dd/span').text\n",
    "style = driver.find_element(By.XPATH, '/html/body/section[2]/div/div/section[5]/section/div[1]/dl[2]/dd/span').text\n",
    "size = driver.find_element(By.XPATH, '/html/body/section[2]/div/div/section[5]/section/div[1]/dl[3]/dd/span').text\n",
    "\n",
    "print('price',price)\n",
    "print('city',city)\n",
    "print('neighborhood', neighborhood)\n",
    "print('re_type', re_type)\n",
    "print('bed', bed)\n",
    "print('bath', bath)\n",
    "print('type_', type_)\n",
    "print('style', style)\n",
    "print('size', size)\n",
    "\n",
    "driver.quit()"
   ]
  },
  {
   "cell_type": "code",
   "execution_count": null,
   "id": "8777c1cc-51d1-4f86-90a6-f575422893e3",
   "metadata": {},
   "outputs": [],
   "source": []
  }
 ],
 "metadata": {
  "kernelspec": {
   "display_name": "Python 3 (ipykernel)",
   "language": "python",
   "name": "python3"
  },
  "language_info": {
   "codemirror_mode": {
    "name": "ipython",
    "version": 3
   },
   "file_extension": ".py",
   "mimetype": "text/x-python",
   "name": "python",
   "nbconvert_exporter": "python",
   "pygments_lexer": "ipython3",
   "version": "3.9.13"
  }
 },
 "nbformat": 4,
 "nbformat_minor": 5
}
