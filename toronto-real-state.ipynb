{
 "cells": [
  {
   "cell_type": "code",
   "execution_count": 3,
   "id": "7d23c66e-bdb2-42a2-956c-8335c427141a",
   "metadata": {},
   "outputs": [],
   "source": [
    "from selenium import webdriver\n",
    "from selenium.webdriver.chrome.service import Service"
   ]
  },
  {
   "cell_type": "code",
   "execution_count": 8,
   "id": "71ad6fdb-71f5-4185-90b2-cc335ac5291d",
   "metadata": {},
   "outputs": [],
   "source": [
    "#creating a service responsible to specify the location of the chromedriver in out machine.\n",
    "service = Service(r\"/Users/aniziocp/.cache/selenium/chromedriver\")\n",
    "\n",
    "#activating the driver.\n",
    "driver = webdriver.Chrome(service=service)"
   ]
  },
  {
   "cell_type": "code",
   "execution_count": 12,
   "id": "ced444b3-f7d6-466b-9390-cf3cbccfc6c3",
   "metadata": {},
   "outputs": [
    {
     "name": "stderr",
     "output_type": "stream",
     "text": [
      "[WDM] - Downloading: 100%|██████████████████| 8.84M/8.84M [00:21<00:00, 434kB/s]\n"
     ]
    }
   ],
   "source": [
    "\"\"\"\n",
    " Second way --- using the \"webdriver-manager\"\n",
    " we will be able to always download the latest version of the \"chromedriver\" \n",
    " using our Google Chrome version as a reference.\n",
    "\"\"\"\n",
    "\n",
    "from selenium import webdriver\n",
    "from selenium.webdriver.chrome.service import Service\n",
    "from webdriver_manager.chrome import ChromeDriverManager\n",
    "\n",
    "service = Service(ChromeDriverManager().install())\n",
    "driver = webdriver.Chrome(service=service)"
   ]
  },
  {
   "cell_type": "code",
   "execution_count": null,
   "id": "8c3b9bc4-bf30-4469-86a0-6002b95aff27",
   "metadata": {},
   "outputs": [],
   "source": []
  }
 ],
 "metadata": {
  "kernelspec": {
   "display_name": "Python 3 (ipykernel)",
   "language": "python",
   "name": "python3"
  },
  "language_info": {
   "codemirror_mode": {
    "name": "ipython",
    "version": 3
   },
   "file_extension": ".py",
   "mimetype": "text/x-python",
   "name": "python",
   "nbconvert_exporter": "python",
   "pygments_lexer": "ipython3",
   "version": "3.9.13"
  }
 },
 "nbformat": 4,
 "nbformat_minor": 5
}
